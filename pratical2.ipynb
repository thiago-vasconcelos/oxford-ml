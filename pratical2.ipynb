{
 "cells": [
  {
   "cell_type": "code",
   "execution_count": 1,
   "metadata": {},
   "outputs": [],
   "source": [
    "import torch\n",
    "import torch.nn\n",
    "import torch.optim\n",
    "\n",
    "from torch.autograd import Variable"
   ]
  },
  {
   "cell_type": "code",
   "execution_count": 2,
   "metadata": {},
   "outputs": [],
   "source": [
    "data = torch.Tensor([\n",
    "   [40,  6,  4],\n",
    "   [44, 10,  4],\n",
    "   [46, 12,  5],\n",
    "   [48, 14,  7],\n",
    "   [52, 16,  9],\n",
    "   [58, 18, 12],\n",
    "   [60, 22, 14],\n",
    "   [68, 24, 20],\n",
    "   [74, 26, 21],\n",
    "   [80, 32, 24]\n",
    "])"
   ]
  },
  {
   "cell_type": "code",
   "execution_count": 3,
   "metadata": {},
   "outputs": [],
   "source": [
    "ninputs = 2;\n",
    "noutputs = 1;\n",
    "model = torch.nn.Sequential(torch.nn.Linear(ninputs, noutputs));"
   ]
  },
  {
   "cell_type": "code",
   "execution_count": 4,
   "metadata": {},
   "outputs": [],
   "source": [
    "loss_fn = torch.nn.MSELoss()"
   ]
  },
  {
   "cell_type": "code",
   "execution_count": 5,
   "metadata": {},
   "outputs": [],
   "source": [
    "optimizer = torch.optim.SGD(\n",
    "  params = model.parameters(),\n",
    "  lr = 1e-3,\n",
    "  weight_decay = 0,\n",
    "  momentum = 0,\n",
    "  dampening = 0\n",
    ")\n"
   ]
  },
  {
   "cell_type": "code",
   "execution_count": 6,
   "metadata": {},
   "outputs": [],
   "source": [
    "for epoch in range(1,int(1e3)):\n",
    "    current_loss = 0\n",
    "    for i in range(data.size(0)):\n",
    "        x = Variable(data[i:i+1,1:3]);\n",
    "        y = Variable(data[i:i+1,0:1]);\n",
    "        optimizer.zero_grad();\n",
    "    \n",
    "        y_pred = model.forward(x);\n",
    "\n",
    "        loss = loss_fn(y_pred, y);\n",
    "        loss.backward();\n",
    "        optimizer.step();\n",
    "        current_loss += loss;"
   ]
  },
  {
   "cell_type": "code",
   "execution_count": 7,
   "metadata": {},
   "outputs": [
    {
     "name": "stdout",
     "output_type": "stream",
     "text": [
      "id  approx   text\n",
      " 0   34.34  40.32\n",
      " 1   39.48  42.92\n",
      " 2   42.52  45.33\n",
      " 3   46.04  48.85\n",
      " 4   49.55  52.37\n",
      " 5   53.54  57.00\n",
      " 6   59.62  61.82\n",
      " 7   65.02  69.78\n",
      " 8   68.06  72.19\n",
      " 9   77.19  79.42\n"
     ]
    }
   ],
   "source": [
    "text = [40.32, 42.92, 45.33, 48.85, 52.37, 57, 61.82, 69.78, 72.19, 79.42]\n",
    "\n",
    "print('id  approx   text')\n",
    "for i in range(data.size(0)):\n",
    "    myPrediction = model.forward(Variable(data[i:i+1,1:3]))\n",
    "    print(\"%2d  %6.2f %6.2f\" % (i, myPrediction.data.numpy()[0,0], text[i]))"
   ]
  },
  {
   "cell_type": "code",
   "execution_count": 8,
   "metadata": {},
   "outputs": [
    {
     "data": {
      "text/plain": [
       "Variable containing:\n",
       " 34.3354\n",
       " 39.9496\n",
       " 46.5068\n",
       "[torch.FloatTensor of size 3x1]"
      ]
     },
     "execution_count": 8,
     "metadata": {},
     "output_type": "execute_result"
    }
   ],
   "source": [
    "dataTest = Variable(torch.Tensor([\n",
    "[6, 4],\n",
    "[10, 5],\n",
    "[14, 8]\n",
    "]))\n",
    "\n",
    "model(dataTest)"
   ]
  },
  {
   "cell_type": "markdown",
   "metadata": {},
   "source": [
    "Para epoch = 1e3:\n",
    "\n",
    "  34.3354\n",
    "  \n",
    "  39.9496\n",
    "  \n",
    "  46.5068\n",
    "  \n",
    "  \n",
    "Para epoch = 1e4:\n",
    "\n",
    "  43.7012\n",
    "  \n",
    "  45.5351\n",
    "  \n",
    "  49.5444\n",
    "  \n",
    "  \n",
    "Para epoch = 1e5:\n",
    "\n",
    "  43.7012\n",
    "  \n",
    "  45.5351\n",
    "  \n",
    "  49.5444"
   ]
  },
  {
   "cell_type": "code",
   "execution_count": 25,
   "metadata": {},
   "outputs": [
    {
     "name": "stdout",
     "output_type": "stream",
     "text": [
      "\n",
      " 40.3204\n",
      " 44.0304\n",
      " 49.9603\n",
      "[torch.FloatTensor of size 3x1]\n",
      "\n"
     ]
    }
   ],
   "source": [
    "X = torch.cat([torch.ones(data.size(0),1), data[:, 1:3]], 1);\n",
    "y = data[:,0:1];\n",
    "\n",
    "theta = (X.t() @ X).inverse() @ X.t() @ y\n",
    "\n",
    "XTest = torch.cat([torch.ones(dataTest.size(0),1), dataTest.data], 1)\n",
    "yTest = XTest @ theta\n",
    "print(yTest)"
   ]
  },
  {
   "cell_type": "code",
   "execution_count": null,
   "metadata": {
    "collapsed": true
   },
   "outputs": [],
   "source": []
  }
 ],
 "metadata": {
  "kernelspec": {
   "display_name": "Python 3",
   "language": "python",
   "name": "python3"
  },
  "language_info": {
   "codemirror_mode": {
    "name": "ipython",
    "version": 3
   },
   "file_extension": ".py",
   "mimetype": "text/x-python",
   "name": "python",
   "nbconvert_exporter": "python",
   "pygments_lexer": "ipython3",
   "version": "3.6.1"
  }
 },
 "nbformat": 4,
 "nbformat_minor": 2
}
